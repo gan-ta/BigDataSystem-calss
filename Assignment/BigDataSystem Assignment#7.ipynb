{
 "cells": [
  {
   "cell_type": "code",
   "execution_count": 39,
   "metadata": {},
   "outputs": [
    {
     "data": {
      "text/plain": [
       "[('Spark', 4), ('is', 3), ('a', 2), ('This', 2)]"
      ]
     },
     "execution_count": 39,
     "metadata": {},
     "output_type": "execute_result"
    }
   ],
   "source": [
    "text_file = sc.textFile(\"spark.txt\")\n",
    "data = text_file.flatMap(lambda l : l.split(\" \"))\\\n",
    "                .map(lambda w : (w,1))\\\n",
    "                .reduceByKey(lambda a,b:a+b)\\\n",
    "                .filter(lambda x : x[1] >= 2)\n",
    "\n",
    "data.collect()"
   ]
  },
  {
   "cell_type": "code",
   "execution_count": 40,
   "metadata": {},
   "outputs": [
    {
     "data": {
      "text/plain": [
       "[(2, 'a'), (2, 'This'), (3, 'is'), (4, 'Spark')]"
      ]
     },
     "execution_count": 40,
     "metadata": {},
     "output_type": "execute_result"
    }
   ],
   "source": [
    "data = data.map(lambda p : (p[1],p[0]))\\\n",
    "           .sortByKey(ascending=True)\n",
    "data.collect()"
   ]
  },
  {
   "cell_type": "code",
   "execution_count": 46,
   "metadata": {},
   "outputs": [
    {
     "name": "stdout",
     "output_type": "stream",
     "text": [
      "[('PageA', ['PageB', 'PageC']), ('PageB', ['PageC']), ('PageD', ['PageC']), ('PageC', ['PageA'])]\n",
      "[('PageA', 1), ('PageB', 1), ('PageD', 1), ('PageC', 1)]\n"
     ]
    }
   ],
   "source": [
    "mapLink = sc.parallelize([[\"PageA\",\"PageB\"],[\"PageA\",\"PageC\"],[\"PageB\",\"PageC\"],[\"PageC\",\"PageA\"],[\"PageD\",\"PageC\"]])\n",
    "\n",
    "links = mapLink.groupByKey()\n",
    "print(list((k,list(v)) for (k,v) in links.collect()))\n",
    "ranks = links.map(lambda pairs : (pairs[0],1))\n",
    "print(ranks.collect())"
   ]
  },
  {
   "cell_type": "code",
   "execution_count": 49,
   "metadata": {},
   "outputs": [
    {
     "data": {
      "text/plain": [
       "[('PageB', 0.5),\n",
       " ('PageC', 0.5),\n",
       " ('PageC', 1.0),\n",
       " ('PageC', 1.0),\n",
       " ('PageA', 1.0)]"
      ]
     },
     "execution_count": 49,
     "metadata": {},
     "output_type": "execute_result"
    }
   ],
   "source": [
    "def computeContribs(urls, rank):\n",
    "    \"\"\"Calculates Url contributions to the rank ofother URLs\"\"\"\n",
    "    num_urls = len(urls)\n",
    "    for url in urls:\n",
    "        yield (url, rank/ num_urls)\n",
    "\n",
    "contribs = links.join(ranks).flatMap(lambda url_urls_rank : computeContribs(url_urls_rank[1][0],url_urls_rank[1][1]))\n",
    "contribs.collect()"
   ]
  },
  {
   "cell_type": "code",
   "execution_count": 51,
   "metadata": {},
   "outputs": [
    {
     "name": "stdout",
     "output_type": "stream",
     "text": [
      "[('PageB', 0.575), ('PageA', 1.0), ('PageC', 2.275)]\n"
     ]
    }
   ],
   "source": [
    "new_rank = contribs.reduceByKey(lambda x,y:x+y)\\\n",
    "                    .mapValues(lambda rank:0.15+0.85*rank).collect()\n",
    "print(new_rank)"
   ]
  },
  {
   "cell_type": "code",
   "execution_count": null,
   "metadata": {},
   "outputs": [],
   "source": []
  }
 ],
 "metadata": {
  "kernelspec": {
   "display_name": "Python 3",
   "language": "python",
   "name": "python3"
  },
  "language_info": {
   "codemirror_mode": {
    "name": "ipython",
    "version": 3
   },
   "file_extension": ".py",
   "mimetype": "text/x-python",
   "name": "python",
   "nbconvert_exporter": "python",
   "pygments_lexer": "ipython3",
   "version": "3.8.3"
  }
 },
 "nbformat": 4,
 "nbformat_minor": 4
}
