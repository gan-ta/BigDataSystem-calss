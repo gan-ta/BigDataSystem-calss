{
 "cells": [
  {
   "cell_type": "code",
   "execution_count": 1,
   "metadata": {},
   "outputs": [],
   "source": [
    "from pyspark.sql.functions import year"
   ]
  },
  {
   "cell_type": "code",
   "execution_count": 23,
   "metadata": {},
   "outputs": [
    {
     "name": "stdout",
     "output_type": "stream",
     "text": [
      "root\n",
      " |-- id: integer (nullable = true)\n",
      " |-- firstName: string (nullable = true)\n",
      " |-- middleName: string (nullable = true)\n",
      " |-- lastName: string (nullable = true)\n",
      " |-- gender: string (nullable = true)\n",
      " |-- birthDate: timestamp (nullable = true)\n",
      " |-- ssn: string (nullable = true)\n",
      " |-- salary: integer (nullable = true)\n",
      "\n"
     ]
    }
   ],
   "source": [
    "peopleDF = spark.read.parquet(\"people-10m.parquet\")\n",
    "peopleDF.printSchema()"
   ]
  },
  {
   "cell_type": "code",
   "execution_count": 44,
   "metadata": {},
   "outputs": [
    {
     "name": "stdout",
     "output_type": "stream",
     "text": [
      "+------+------+\n",
      "|gender|salary|\n",
      "+------+------+\n",
      "|     M| 45983|\n",
      "|     M| 45867|\n",
      "|     M| 58623|\n",
      "|     M| 33952|\n",
      "|     M| 31453|\n",
      "+------+------+\n",
      "only showing top 5 rows\n",
      "\n"
     ]
    }
   ],
   "source": [
    "peopleDF = spark.read.parquet(\"people-10m.parquet\")\n",
    "peopleDF.select('gender','salary').show(5)"
   ]
  },
  {
   "cell_type": "code",
   "execution_count": 36,
   "metadata": {},
   "outputs": [
    {
     "name": "stdout",
     "output_type": "stream",
     "text": [
      "+--------+------+-------------------+\n",
      "|lastName|salary|          birthDate|\n",
      "+--------+------+-------------------+\n",
      "|  Eddins| 33952|1998-07-16 13:00:00|\n",
      "|   Meneo| 56896|1990-08-07 13:00:00|\n",
      "|  Goudie| 78111|1991-04-04 14:00:00|\n",
      "|   Trace| 87208|1997-01-18 14:00:00|\n",
      "|   Frape| 66889|1994-04-06 13:00:00|\n",
      "+--------+------+-------------------+\n",
      "only showing top 5 rows\n",
      "\n"
     ]
    }
   ],
   "source": [
    "from pyspark.sql.functions import year\n",
    "peopleDF = spark.read.parquet(\"people-10m.parquet\")\n",
    "peopleDF = peopleDF.select('lastName','salary','birthDate')\\\n",
    "                   .filter(\"gender = 'M'\" and year(\"birthDate\") >= \"1990\")\n",
    "peopleDF.show(5)"
   ]
  },
  {
   "cell_type": "code",
   "execution_count": 26,
   "metadata": {},
   "outputs": [
    {
     "name": "stdout",
     "output_type": "stream",
     "text": [
      "+---------+-----+\n",
      "|firstName|count|\n",
      "+---------+-----+\n",
      "|   Sammie| 5462|\n",
      "|    Daryl| 5442|\n",
      "|   Bobbie| 5432|\n",
      "|      Lee| 5411|\n",
      "|     Troy| 5408|\n",
      "+---------+-----+\n",
      "only showing top 5 rows\n",
      "\n"
     ]
    }
   ],
   "source": [
    "peopleDF = spark.read.parquet(\"people-10m.parquet\")\n",
    "peopleDF.groupBy(\"firstName\").count()\\\n",
    "        .orderBy(\"count\",ascending=False)\\\n",
    "        .show(5)"
   ]
  },
  {
   "cell_type": "code",
   "execution_count": 31,
   "metadata": {},
   "outputs": [
    {
     "name": "stdout",
     "output_type": "stream",
     "text": [
      "+----------+-----+\n",
      "|middleName|count|\n",
      "+----------+-----+\n",
      "|   Bryanna| 1140|\n",
      "|     Sofia| 1154|\n",
      "|   Raylene| 1157|\n",
      "|   Leonila| 1157|\n",
      "| Ernestine| 1159|\n",
      "+----------+-----+\n",
      "only showing top 5 rows\n",
      "\n"
     ]
    }
   ],
   "source": [
    "peopleDF = spark.read.parquet(\"people-10m.parquet\")\n",
    "peopleDF.groupBy(\"middleName\").count()\\\n",
    "        .filter(\"count <= '3000'\")\\\n",
    "        .orderBy(\"count\")\\\n",
    "        .show(5)"
   ]
  },
  {
   "cell_type": "code",
   "execution_count": null,
   "metadata": {},
   "outputs": [],
   "source": []
  }
 ],
 "metadata": {
  "kernelspec": {
   "display_name": "Python 3",
   "language": "python",
   "name": "python3"
  },
  "language_info": {
   "codemirror_mode": {
    "name": "ipython",
    "version": 3
   },
   "file_extension": ".py",
   "mimetype": "text/x-python",
   "name": "python",
   "nbconvert_exporter": "python",
   "pygments_lexer": "ipython3",
   "version": "3.8.3"
  }
 },
 "nbformat": 4,
 "nbformat_minor": 4
}
