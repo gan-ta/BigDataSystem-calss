{
 "cells": [
  {
   "cell_type": "code",
   "execution_count": 21,
   "metadata": {},
   "outputs": [
    {
     "name": "stdout",
     "output_type": "stream",
     "text": [
      "4.833333333333333\n"
     ]
    }
   ],
   "source": [
    "import numpy as np\n",
    "\n",
    "prediction = np.array([[5],[4],[6]])\n",
    "y = np.array([[3],[1],[2]])\n",
    "\n",
    "m = prediction.shape[0]\n",
    "\n",
    "error = prediction - y\n",
    "cost = (1/(2*m))*sum(np.square(error))\n",
    "\n",
    "print('%.15f'%(cost))"
   ]
  },
  {
   "cell_type": "code",
   "execution_count": 24,
   "metadata": {},
   "outputs": [
    {
     "name": "stdout",
     "output_type": "stream",
     "text": [
      "[[10.7]\n",
      " [ 8.8]]\n"
     ]
    }
   ],
   "source": [
    "x = np.array([[8,1],[10,1],[15,1]])\n",
    "prediction = np.array([[5],[4],[1]])\n",
    "y = np.array([[3],[1],[2]])\n",
    "m = x.shape[0]\n",
    "\n",
    "error = prediction - y \n",
    "delta = np.matmul(x.T,error)\n",
    "\n",
    "theta = np.array([[20],[10]])\n",
    "alpha = 0.9\n",
    "\n",
    "new_theta = theta - (alpha/m)*delta\n",
    "print(new_theta)"
   ]
  }
 ],
 "metadata": {
  "kernelspec": {
   "display_name": "Python 3",
   "language": "python",
   "name": "python3"
  },
  "language_info": {
   "codemirror_mode": {
    "name": "ipython",
    "version": 3
   },
   "file_extension": ".py",
   "mimetype": "text/x-python",
   "name": "python",
   "nbconvert_exporter": "python",
   "pygments_lexer": "ipython3",
   "version": "3.8.3"
  }
 },
 "nbformat": 4,
 "nbformat_minor": 4
}
