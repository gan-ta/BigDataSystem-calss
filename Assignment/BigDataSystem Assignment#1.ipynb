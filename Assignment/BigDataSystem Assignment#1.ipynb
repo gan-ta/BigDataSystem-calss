{
 "cells": [
  {
   "cell_type": "code",
   "execution_count": 6,
   "metadata": {},
   "outputs": [
    {
     "name": "stdout",
     "output_type": "stream",
     "text": [
      "김희섭's contact info\n",
      "phone : 000-1111-1234\n",
      "email : gilmat@naver.com\n",
      "\n",
      "kim's contact info\n",
      "phone : 000-2222-2345\n",
      "email : kim@aa.bb.cc\n",
      "\n"
     ]
    }
   ],
   "source": [
    "contacts = { '김희섭':{'phone' : '000-1111-1234','email' : 'gilmat@naver.com'},\n",
    "        'kim':{'phone': '000-2222-2345', 'email' : 'kim@aa.bb.cc'}}\n",
    "\n",
    "for key,value in contacts.items():\n",
    "    title = '{}\\'s contact info'\n",
    "    print(title.format(key))\n",
    "    for key1, value1 in value.items():\n",
    "        info = '{} : {}'\n",
    "        print(info.format(key1,value1))\n",
    "    print()"
   ]
  },
  {
   "cell_type": "code",
   "execution_count": 12,
   "metadata": {},
   "outputs": [
    {
     "name": "stdout",
     "output_type": "stream",
     "text": [
      "['even', 'odd', 'even', 'odd', 'even', 'odd']\n"
     ]
    }
   ],
   "source": [
    "student_number = [20151812,20201111,20202222,20203333,20204444,20205555]\n",
    "\n",
    "result = ['even' if i % 2 == 0 else 'odd' for i in student_number]\n",
    "print(result)"
   ]
  },
  {
   "cell_type": "code",
   "execution_count": 15,
   "metadata": {},
   "outputs": [
    {
     "name": "stdout",
     "output_type": "stream",
     "text": [
      "1256.0\n"
     ]
    }
   ],
   "source": [
    "class Sphere():\n",
    "    pi = 3.14\n",
    "    def area(self,r):\n",
    "        return 4*self.pi*r**2\n",
    "sphere = Sphere()\n",
    "print(sphere.area(10))"
   ]
  },
  {
   "cell_type": "code",
   "execution_count": 17,
   "metadata": {},
   "outputs": [
    {
     "name": "stdout",
     "output_type": "stream",
     "text": [
      "['김희섭', 'kim']\n"
     ]
    }
   ],
   "source": [
    "student = [{'name' : '김희섭','student_number':20151812}, {'name' : 'kim', 'student_number' : 20161812}]\n",
    "\n",
    "print(list(map(lambda x : x['name'],student)))"
   ]
  },
  {
   "cell_type": "code",
   "execution_count": null,
   "metadata": {},
   "outputs": [],
   "source": []
  }
 ],
 "metadata": {
  "kernelspec": {
   "display_name": "Python 3",
   "language": "python",
   "name": "python3"
  },
  "language_info": {
   "codemirror_mode": {
    "name": "ipython",
    "version": 3
   },
   "file_extension": ".py",
   "mimetype": "text/x-python",
   "name": "python",
   "nbconvert_exporter": "python",
   "pygments_lexer": "ipython3",
   "version": "3.8.3"
  }
 },
 "nbformat": 4,
 "nbformat_minor": 4
}
