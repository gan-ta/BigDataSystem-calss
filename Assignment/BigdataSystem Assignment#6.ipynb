{
 "cells": [
  {
   "cell_type": "code",
   "execution_count": 4,
   "metadata": {},
   "outputs": [
    {
     "name": "stdout",
     "output_type": "stream",
     "text": [
      "[(1, 2), (2, 4), (3, 6)]\n"
     ]
    }
   ],
   "source": [
    "x = sc.parallelize([1,2,3])\n",
    "y = x.map(lambda z : (z,z*2))\n",
    "print(y.collect())"
   ]
  },
  {
   "cell_type": "code",
   "execution_count": 6,
   "metadata": {},
   "outputs": [
    {
     "name": "stdout",
     "output_type": "stream",
     "text": [
      "[1, 2, 3, 4, 5]\n",
      "[2, 4]\n"
     ]
    }
   ],
   "source": [
    "x = sc.parallelize([1,2,3,4,5])\n",
    "y = x.filter(lambda x : x%2 ==0)\n",
    "print(x.collect())\n",
    "print(y.collect())"
   ]
  },
  {
   "cell_type": "code",
   "execution_count": 15,
   "metadata": {},
   "outputs": [
    {
     "name": "stdout",
     "output_type": "stream",
     "text": [
      "[('is', 3), ('test', 3)]\n"
     ]
    }
   ],
   "source": [
    "text = 'this is test that is not test this test is easy'.split()\n",
    "\n",
    "x = sc.parallelize(text)\n",
    "map_x = x.map(lambda word: (word,1))\n",
    "reduce = map_x.reduceByKey(lambda x,y: x+y)\\\n",
    "            .filter(lambda x: x[1] > 2).collect()\n",
    "print(reduce)"
   ]
  },
  {
   "cell_type": "code",
   "execution_count": 19,
   "metadata": {},
   "outputs": [
    {
     "name": "stdout",
     "output_type": "stream",
     "text": [
      "[('is', 3), ('test', 3)]\n"
     ]
    }
   ],
   "source": [
    "text = 'this is test that is not test this test is easy'.split()\n",
    "\n",
    "x = sc.parallelize(text)\n",
    "map_x = x.map(lambda word:(word,1))\n",
    "group = map_x.groupByKey().map(lambda x : (x[0],sum(x[1])))\\\n",
    "                .filter(lambda x : x[1] > 2).collect()\n",
    "print(group)"
   ]
  },
  {
   "cell_type": "code",
   "execution_count": null,
   "metadata": {},
   "outputs": [],
   "source": []
  }
 ],
 "metadata": {
  "kernelspec": {
   "display_name": "Python 3",
   "language": "python",
   "name": "python3"
  },
  "language_info": {
   "codemirror_mode": {
    "name": "ipython",
    "version": 3
   },
   "file_extension": ".py",
   "mimetype": "text/x-python",
   "name": "python",
   "nbconvert_exporter": "python",
   "pygments_lexer": "ipython3",
   "version": "3.6.10"
  }
 },
 "nbformat": 4,
 "nbformat_minor": 4
}
