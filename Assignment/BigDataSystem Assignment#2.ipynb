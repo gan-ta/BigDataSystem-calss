{
 "cells": [
  {
   "cell_type": "code",
   "execution_count": 4,
   "metadata": {},
   "outputs": [
    {
     "name": "stdout",
     "output_type": "stream",
     "text": [
      "Green\n",
      "[1 2 3 4]\n",
      "Blue\n",
      "[[ 5  6  7  8  9]\n",
      " [10 11 12 13 14]]\n"
     ]
    }
   ],
   "source": [
    "import numpy as np\n",
    "\n",
    "an_array = np.array([[0,1,2,3,4] , [5,6,7,8,9], [10,11,12,13,14], [15,16,17,18,19]])\n",
    "\n",
    "green = an_array[0,1:]\n",
    "blue = an_array[1:3,:]\n",
    "\n",
    "print(\"Green\")\n",
    "print(green)\n",
    "print(\"Blue\")\n",
    "print(blue)"
   ]
  },
  {
   "cell_type": "code",
   "execution_count": 2,
   "metadata": {},
   "outputs": [
    {
     "name": "stdout",
     "output_type": "stream",
     "text": [
      "Red\n",
      "[[ 0  2  4]\n",
      " [15 17 19]]\n"
     ]
    }
   ],
   "source": [
    "an_array = np.array([[0,1,2,3,4] , [5,6,7,8,9], [10,11,12,13,14], [15,16,17,18,19]])\n",
    "\n",
    "red = an_array[::3,::2]\n",
    "print(\"Red\")\n",
    "print(red)"
   ]
  },
  {
   "cell_type": "code",
   "execution_count": 6,
   "metadata": {},
   "outputs": [
    {
     "name": "stdout",
     "output_type": "stream",
     "text": [
      "filter\n",
      "[[False  True]\n",
      " [False False]\n",
      " [False False]]\n"
     ]
    }
   ],
   "source": [
    "an_array = np.array([[111,222],[333,444],[555,666]])\n",
    "\n",
    "even_filter = (an_array >= 200) & (an_array <= 400) & (an_array % 2 == 0)\n",
    "\n",
    "print('filter')\n",
    "print(even_filter)"
   ]
  },
  {
   "cell_type": "code",
   "execution_count": 8,
   "metadata": {},
   "outputs": [
    {
     "name": "stdout",
     "output_type": "stream",
     "text": [
      "[[[ 99.96956736 100.13437551 100.29637779 100.0346634 ]\n",
      "  [100.17809974 100.19126336  99.80368115 100.32476651]\n",
      "  [ 99.77311277  99.58230747  99.68143769  99.83510369]]\n",
      "\n",
      " [[100.03895788  99.64704797  99.96023745 100.24115339]\n",
      "  [ 99.99267855 100.16060218 100.15584311  99.88632208]\n",
      "  [ 99.93529467 100.26699515 100.2390287  100.03083069]]]\n"
     ]
    }
   ],
   "source": [
    "an_array = np.random.normal(100,.2,(2,3,4))\n",
    "\n",
    "print(an_array)"
   ]
  },
  {
   "cell_type": "code",
   "execution_count": 9,
   "metadata": {},
   "outputs": [
    {
     "name": "stdout",
     "output_type": "stream",
     "text": [
      "[ True False  True]\n",
      "['apple' 'grape']\n",
      "['banana']\n",
      "['apple' 'banana' 'grape' 'orange']\n",
      "[1 2 3 4 5 6]\n"
     ]
    }
   ],
   "source": [
    "array1 = np.array(['apple','banana','grape'])\n",
    "array2 = np.array(['apple','orange','grape'])\n",
    "array3 = np.array([1,1,2,2,3,3,4,4,5,5,6,6])\n",
    "\n",
    "print(np.in1d(array1,array2))\n",
    "print(np.intersect1d(array1,array2))\n",
    "print(np.setdiff1d(array1,array2))\n",
    "print(np.union1d(array1,array2))\n",
    "print(np.unique(array3))"
   ]
  },
  {
   "cell_type": "code",
   "execution_count": 11,
   "metadata": {},
   "outputs": [
    {
     "name": "stdout",
     "output_type": "stream",
     "text": [
      "sum by row\n",
      "[[12 15 18 21]\n",
      " [48 51 54 57]]\n",
      "sum by column\n",
      "[[12 14 16 18]\n",
      " [20 22 24 26]\n",
      " [28 30 32 34]]\n"
     ]
    }
   ],
   "source": [
    "np_array = np.array([[[0,1,2,3],[4,5,6,7],[8,9,10,11]],[[12,13,14,15],[16,17,18,19],[20,21,22,23]]]) \n",
    "\n",
    "print('sum by row')\n",
    "print(np_array.sum(axis = 1))\n",
    "\n",
    "print('sum by column')\n",
    "print(np_array.sum(axis=0))"
   ]
  },
  {
   "cell_type": "code",
   "execution_count": null,
   "metadata": {},
   "outputs": [],
   "source": []
  }
 ],
 "metadata": {
  "kernelspec": {
   "display_name": "Python 3",
   "language": "python",
   "name": "python3"
  },
  "language_info": {
   "codemirror_mode": {
    "name": "ipython",
    "version": 3
   },
   "file_extension": ".py",
   "mimetype": "text/x-python",
   "name": "python",
   "nbconvert_exporter": "python",
   "pygments_lexer": "ipython3",
   "version": "3.8.3"
  }
 },
 "nbformat": 4,
 "nbformat_minor": 4
}
